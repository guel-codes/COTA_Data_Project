{
 "metadata": {
  "language_info": {
   "codemirror_mode": {
    "name": "ipython",
    "version": 3
   },
   "file_extension": ".py",
   "mimetype": "text/x-python",
   "name": "python",
   "nbconvert_exporter": "python",
   "pygments_lexer": "ipython3",
   "version": "3.9.1-final"
  },
  "orig_nbformat": 2,
  "kernelspec": {
   "name": "python3",
   "display_name": "Python 3.9.1 64-bit",
   "metadata": {
    "interpreter": {
     "hash": "00d0da2beda986aec30816e4cd7fb4d22aa303e0c7be1e29f09be47940c81e46"
    }
   }
  }
 },
 "nbformat": 4,
 "nbformat_minor": 2,
 "cells": [
  {
   "cell_type": "code",
   "execution_count": 1,
   "metadata": {},
   "outputs": [],
   "source": [
    "data = {'congestion_level': None, 'current_status': 'IN_TRANSIT_TO', 'current_stop_sequence': None, 'occupancy_status': None, 'position': {'bearing': 45, 'latitude': '39.984771728515625', 'longitude': '-82.77189636230469', 'odometer': None, 'speed': None}, 'stop_id': None, 'timestamp': 1609418457, 'trip': {'direction_id': None, 'route_id': '010', 'schedule_relationship': None, 'start_date': '2020-12-31', 'start_time': None, 'trip_id': '752101'}, 'vehicle': {'id': '11920', 'label': '1920', 'license_plate': None}}"
   ]
  },
  {
   "cell_type": "code",
   "execution_count": 6,
   "metadata": {},
   "outputs": [
    {
     "output_type": "stream",
     "name": "stdout",
     "text": [
      "010\n"
     ]
    }
   ],
   "source": [
    "print(data['trip']['route_id'])"
   ]
  },
  {
   "cell_type": "code",
   "execution_count": null,
   "metadata": {},
   "outputs": [],
   "source": []
  }
 ]
}